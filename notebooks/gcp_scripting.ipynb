{
 "cells": [
  {
   "cell_type": "markdown",
   "id": "67fcd6bf-d679-4990-970d-3c3354e764a2",
   "metadata": {},
   "source": [
    "# Testing GCP scripting"
   ]
  },
  {
   "cell_type": "markdown",
   "id": "57b7434d-5df4-4b65-90d2-5161ed010b47",
   "metadata": {},
   "source": [
    "## Setup"
   ]
  },
  {
   "cell_type": "code",
   "execution_count": 1,
   "id": "46816e15-7001-41d4-834f-e111640f0dfa",
   "metadata": {},
   "outputs": [
    {
     "data": {
      "text/plain": [
       "True"
      ]
     },
     "execution_count": 1,
     "metadata": {},
     "output_type": "execute_result"
    }
   ],
   "source": [
    "import os\n",
    "import datetime\n",
    "import random\n",
    "from google.cloud import storage\n",
    "from google.cloud import secretmanager\n",
    "from dotenv import load_dotenv\n",
    "load_dotenv()\n"
   ]
  },
  {
   "cell_type": "markdown",
   "id": "6b524ace-7a23-40c9-86eb-24a243433b22",
   "metadata": {},
   "source": [
    "## Data refresh cloud function"
   ]
  },
  {
   "cell_type": "code",
   "execution_count": 2,
   "id": "921c8f8e-ca82-4600-be2e-6925f3de345f",
   "metadata": {},
   "outputs": [],
   "source": [
    "class MockRequest:\n",
    "    def __init__(self, args=None, json_body=None):\n",
    "        self.args = args or {}\n",
    "        self.json = json_body or {}"
   ]
  },
  {
   "cell_type": "code",
   "execution_count": 3,
   "id": "8dffea40-6708-4a11-a251-a88721f08184",
   "metadata": {},
   "outputs": [],
   "source": [
    "# Function to retrieve secrets based on the environment\n",
    "def get_secret(secret_name):\n",
    "    if os.environ.get('GCP_ENVIRONMENT'):\n",
    "        # Access secret from GCP Secret Manager\n",
    "        client = secretmanager.SecretManagerServiceClient()\n",
    "        project_id = os.environ.get('GCP_PROJECT_ID')\n",
    "        name = f\"projects/{project_id}/secrets/{secret_name}/versions/latest\"\n",
    "        response = client.access_secret_version(request={\"name\": name})\n",
    "        secret_value = response.payload.data.decode(\"UTF-8\")\n",
    "    else:\n",
    "        # Access secret from local environment variable\n",
    "        secret_value = os.environ.get(secret_name, 'VALUE_NOT_SET')\n",
    "    return secret_value\n",
    "\n",
    "# Function to generate fake data\n",
    "def generate_fake_data():\n",
    "    date = datetime.datetime.now().strftime('%Y-%m-%d')\n",
    "    weight = random.uniform(170, 180)  # Random float between 170 and 180\n",
    "    calories = random.uniform(1500, 3000)  # Random float between 1500 and 3500\n",
    "    steps = random.uniform(5000, 15000)  # Random float between 5000 and 15000\n",
    "\n",
    "    # Format as CSV line\n",
    "    data_line = f'{date},{weight:.2f},{calories:.2f},{steps:.2f}\\n'\n",
    "    return data_line\n"
   ]
  },
  {
   "cell_type": "code",
   "execution_count": 4,
   "id": "a3185936-9764-454a-9b86-8c677ddd71f0",
   "metadata": {},
   "outputs": [
    {
     "data": {
      "text/plain": [
       "'weight-forecaster-poc-data'"
      ]
     },
     "execution_count": 4,
     "metadata": {},
     "output_type": "execute_result"
    }
   ],
   "source": [
    "get_secret('CLOUD_STORAGE_BUCKET')\n",
    "# generate_fake_data()"
   ]
  },
  {
   "cell_type": "code",
   "execution_count": 5,
   "id": "d6d8c9cb-f745-4da1-bc6d-ec2edcd34681",
   "metadata": {},
   "outputs": [],
   "source": [
    "# Function to append data to a file in Cloud Storage\n",
    "def append_to_storage(bucket_name, file_name, data_line):\n",
    "    client = storage.Client()\n",
    "    bucket = client.bucket(bucket_name)\n",
    "    blob = bucket.blob(file_name)\n",
    "\n",
    "    # Check if the file exists and download its contents\n",
    "    if blob.exists():\n",
    "        current_content = blob.download_as_text()\n",
    "    else:\n",
    "        current_content = ''\n",
    "\n",
    "    # Append the new line of data\n",
    "    new_content = current_content + data_line\n",
    "\n",
    "    # Upload the updated content back to the Cloud Storage file\n",
    "    blob.upload_from_string(new_content)\n",
    "\n",
    "def data_refresh(request):\n",
    "    # Retrieve the Cloud Storage bucket name from secrets\n",
    "    bucket_name = get_secret('CLOUD_STORAGE_BUCKET')\n",
    "    file_name = 'fitness_data.csv'\n",
    "\n",
    "    data_line = generate_fake_data()\n",
    "    append_to_storage(bucket_name, file_name, data_line)\n",
    "\n",
    "    return f'Appended new data to {file_name} in bucket {bucket_name}'"
   ]
  },
  {
   "cell_type": "code",
   "execution_count": 6,
   "id": "34bc42f6-42d7-4899-bad6-f91af91749a6",
   "metadata": {},
   "outputs": [
    {
     "data": {
      "text/plain": [
       "'Appended new data to fitness_data.csv in bucket weight-forecaster-poc-data'"
      ]
     },
     "execution_count": 6,
     "metadata": {},
     "output_type": "execute_result"
    }
   ],
   "source": [
    "mock_request = MockRequest()\n",
    "data_refresh(mock_request)"
   ]
  },
  {
   "cell_type": "markdown",
   "id": "56f72680-8771-4f6d-a5e0-6edbc3b7855e",
   "metadata": {},
   "source": [
    "TODOs:\n",
    "- test locally as a script (instead of in a jupyter notebook)\n",
    "- test running in the GCP environment...not sure if there is an intermediate step or we just try to deploy it as a cloud function\n",
    "- how do we manage the cloud function? if I update the script, can I commit, then push it to github, and then have GCP get the updated version? Do we use a docker container at this stage?\n"
   ]
  },
  {
   "cell_type": "code",
   "execution_count": null,
   "id": "c3e3330c-324e-4f24-824f-5606dbf84237",
   "metadata": {},
   "outputs": [],
   "source": []
  },
  {
   "cell_type": "code",
   "execution_count": null,
   "id": "095de612-ff45-4763-a050-6d702fb33806",
   "metadata": {},
   "outputs": [],
   "source": []
  },
  {
   "cell_type": "code",
   "execution_count": null,
   "id": "e9ba98a2-61a9-48fb-b7f0-ad3ce6b8fa42",
   "metadata": {},
   "outputs": [],
   "source": []
  }
 ],
 "metadata": {
  "kernelspec": {
   "display_name": "Python 3 (ipykernel)",
   "language": "python",
   "name": "python3"
  },
  "language_info": {
   "codemirror_mode": {
    "name": "ipython",
    "version": 3
   },
   "file_extension": ".py",
   "mimetype": "text/x-python",
   "name": "python",
   "nbconvert_exporter": "python",
   "pygments_lexer": "ipython3",
   "version": "3.9.18"
  }
 },
 "nbformat": 4,
 "nbformat_minor": 5
}
